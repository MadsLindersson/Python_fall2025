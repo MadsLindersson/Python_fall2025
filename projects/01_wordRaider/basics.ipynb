{
 "cells": [
  {
   "cell_type": "code",
   "execution_count": 1,
   "id": "c5e96b27",
   "metadata": {},
   "outputs": [],
   "source": [
    "import random"
   ]
  },
  {
   "cell_type": "code",
   "execution_count": 2,
   "id": "188dc42c",
   "metadata": {},
   "outputs": [],
   "source": [
    "#Variables\n",
    "gameTitle = \"Word Raider\"\n",
    "listOfWords = []\n"
   ]
  },
  {
   "cell_type": "code",
   "execution_count": 3,
   "id": "2ad1a4f1",
   "metadata": {},
   "outputs": [],
   "source": [
    "#File handling\n",
    "with open('words.txt', 'r') as file:\n",
    "    contents = file.read()\n",
    "    listOfWords = contents.splitlines()"
   ]
  },
  {
   "cell_type": "code",
   "execution_count": 4,
   "id": "db2d786e",
   "metadata": {},
   "outputs": [],
   "source": [
    "#Random word\n",
    "randomWord = random.choice(listOfWords)"
   ]
  },
  {
   "cell_type": "code",
   "execution_count": null,
   "id": "1807790a",
   "metadata": {},
   "outputs": [
    {
     "name": "stdout",
     "output_type": "stream",
     "text": [
      "Welcome to: Word Raider  A game about guessing a word!\n",
      "You have to guess a 5 letter word. You have 5 turns\n"
     ]
    }
   ],
   "source": [
    "#Game\n",
    "lettersGuessed = {}\n",
    "lettersNotInTheWord = {}\n",
    "maxTurns = 5\n",
    "turnCounter = 0\n",
    "\n",
    "print(\"Welcome to:\", gameTitle, \" A game about guessing a word!\")\n",
    "print(\"You have to guess a 5 letter word. You have 5 turns\")\n",
    "\n",
    "#while(turnCounter <= maxTurns):\n",
    "guess = input(\"Write er guess and press Enter: \")\n",
    "\n",
    "turnCounter += 1\n"
   ]
  }
 ],
 "metadata": {
  "kernelspec": {
   "display_name": "Python 3",
   "language": "python",
   "name": "python3"
  },
  "language_info": {
   "codemirror_mode": {
    "name": "ipython",
    "version": 3
   },
   "file_extension": ".py",
   "mimetype": "text/x-python",
   "name": "python",
   "nbconvert_exporter": "python",
   "pygments_lexer": "ipython3",
   "version": "3.13.9"
  }
 },
 "nbformat": 4,
 "nbformat_minor": 5
}
