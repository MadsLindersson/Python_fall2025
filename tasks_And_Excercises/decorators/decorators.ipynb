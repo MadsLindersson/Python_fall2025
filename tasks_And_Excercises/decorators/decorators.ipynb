{
 "cells": [
  {
   "cell_type": "code",
   "execution_count": 23,
   "id": "9cf97804",
   "metadata": {},
   "outputs": [
    {
     "name": "stdout",
     "output_type": "stream",
     "text": [
      "time: 2025-10-22 10:19:44.061365\n",
      "4\n"
     ]
    },
    {
     "data": {
      "text/plain": [
       "4"
      ]
     },
     "execution_count": 23,
     "metadata": {},
     "output_type": "execute_result"
    }
   ],
   "source": [
    "from datetime import datetime \n",
    "\n",
    "def logTime (func):  \n",
    "    def wrapper(*args):\n",
    "        print('time:', datetime.now())\n",
    "        stringToPrint = '+'.join(str(i) for i in args)\n",
    "        print (stringToPrint)\n",
    "        return func(*args)\n",
    "    return wrapper\n",
    "\n",
    "@logTime\n",
    "def add(*args):\n",
    "    return sum(args)\n",
    "\n",
    "add(4)"
   ]
  },
  {
   "cell_type": "code",
   "execution_count": null,
   "id": "191be0f2",
   "metadata": {},
   "outputs": [],
   "source": []
  }
 ],
 "metadata": {
  "kernelspec": {
   "display_name": "Python 3",
   "language": "python",
   "name": "python3"
  },
  "language_info": {
   "codemirror_mode": {
    "name": "ipython",
    "version": 3
   },
   "file_extension": ".py",
   "mimetype": "text/x-python",
   "name": "python",
   "nbconvert_exporter": "python",
   "pygments_lexer": "ipython3",
   "version": "3.13.9"
  }
 },
 "nbformat": 4,
 "nbformat_minor": 5
}
