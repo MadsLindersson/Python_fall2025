{
 "cells": [
  {
   "cell_type": "code",
   "execution_count": 24,
   "id": "f01ccf84",
   "metadata": {},
   "outputs": [],
   "source": [
    "listA = [1, 2, 3, 9]\n",
    "\n",
    "listB = [1, 2, 4, 4]"
   ]
  },
  {
   "cell_type": "code",
   "execution_count": null,
   "id": "2fff111e",
   "metadata": {},
   "outputs": [],
   "source": [
    "def hasPairWithSumFromGoogle (list, sum):\n",
    "        low = 0\n",
    "        high = len(list) - 1\n",
    "        while low < high:\n",
    "                s = list[low] + list[high]\n",
    "                if  s == sum:\n",
    "                    return True\n",
    "                elif s < sum:\n",
    "                    low += 1\n",
    "                elif s > sum:\n",
    "                    high -= 1\n",
    "        \n",
    "        return False\n",
    "                "
   ]
  },
  {
   "cell_type": "code",
   "execution_count": 27,
   "id": "57a17e6e",
   "metadata": {},
   "outputs": [
    {
     "data": {
      "text/plain": [
       "True"
      ]
     },
     "execution_count": 27,
     "metadata": {},
     "output_type": "execute_result"
    }
   ],
   "source": [
    "hasPairWithSumFromGoogle(listB, 8)"
   ]
  },
  {
   "cell_type": "code",
   "execution_count": null,
   "id": "2a8a0a9c",
   "metadata": {},
   "outputs": [],
   "source": []
  }
 ],
 "metadata": {
  "kernelspec": {
   "display_name": ".venv",
   "language": "python",
   "name": "python3"
  },
  "language_info": {
   "codemirror_mode": {
    "name": "ipython",
    "version": 3
   },
   "file_extension": ".py",
   "mimetype": "text/x-python",
   "name": "python",
   "nbconvert_exporter": "python",
   "pygments_lexer": "ipython3",
   "version": "3.13.7"
  }
 },
 "nbformat": 4,
 "nbformat_minor": 5
}
