{
 "cells": [
  {
   "cell_type": "code",
   "execution_count": 1,
   "id": "99a9d659",
   "metadata": {},
   "outputs": [],
   "source": [
    "listA = [1, 2, 3, 9]\n",
    "\n",
    "listB = [1, 2, 4, 4]"
   ]
  },
  {
   "cell_type": "code",
   "execution_count": 12,
   "id": "8eaa704f",
   "metadata": {},
   "outputs": [],
   "source": [
    "def hasPairWithSum (list, sum):\n",
    "    low = 0\n",
    "    high = len(list) - 1\n",
    "    while low < high:\n",
    "        s = list[low] + list[high]\n",
    "        if s == sum:\n",
    "            return True\n",
    "        elif s < sum:\n",
    "            low += 1\n",
    "        elif s > sum:\n",
    "            high -= 1\n",
    "    return False"
   ]
  },
  {
   "cell_type": "code",
   "execution_count": 14,
   "id": "ea0857c2",
   "metadata": {},
   "outputs": [
    {
     "data": {
      "text/plain": [
       "True"
      ]
     },
     "execution_count": 14,
     "metadata": {},
     "output_type": "execute_result"
    }
   ],
   "source": [
    "hasPairWithSum(listB, 8)"
   ]
  },
  {
   "cell_type": "code",
   "execution_count": null,
   "id": "66014b12",
   "metadata": {},
   "outputs": [],
   "source": []
  }
 ],
 "metadata": {
  "kernelspec": {
   "display_name": ".venv",
   "language": "python",
   "name": "python3"
  },
  "language_info": {
   "codemirror_mode": {
    "name": "ipython",
    "version": 3
   },
   "file_extension": ".py",
   "mimetype": "text/x-python",
   "name": "python",
   "nbconvert_exporter": "python",
   "pygments_lexer": "ipython3",
   "version": "3.13.7"
  }
 },
 "nbformat": 4,
 "nbformat_minor": 5
}
