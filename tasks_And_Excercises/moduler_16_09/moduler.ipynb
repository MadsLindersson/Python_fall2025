{
 "cells": [
  {
   "cell_type": "code",
   "execution_count": 11,
   "id": "f7379919",
   "metadata": {},
   "outputs": [
    {
     "name": "stdout",
     "output_type": "stream",
     "text": [
      "1234asdf4w4w\n"
     ]
    }
   ],
   "source": [
    "from dotenv import load_dotenv\n",
    "import os\n",
    "\n",
    "load_dotenv()\n",
    "\n",
    "print(os.getenv(\"API_KEY\"))"
   ]
  },
  {
   "cell_type": "code",
   "execution_count": null,
   "id": "86e38c02",
   "metadata": {},
   "outputs": [
    {
     "data": {
      "text/plain": [
       "True"
      ]
     },
     "execution_count": 19,
     "metadata": {},
     "output_type": "execute_result"
    }
   ],
   "source": [
    "import subprocess\n",
    "import webbrowser\n",
    "from pathlib import Path  # <-- needed for .resolve() and .as_uri()\n",
    "\n",
    "desktop_path = Path(os.path.expanduser(\"~\")) / \"Desktop\"\n",
    "repo_path = desktop_path / \"spring2024\"\n",
    "\n",
    "os.chdir(desktop_path)\n",
    "\n",
    "if not repo_path.exists():\n",
    "    repo_url = 'https://github.com/python-elective-kea/spring2024.git'\n",
    "    subprocess.run(['git', 'clone', str(repo_path)])\n",
    "\n",
    "index_html_path = repo_path / \"build\" / \"index.html\"\n",
    "webbrowser.open(index_html_path.resolve().as_uri())\n"
   ]
  },
  {
   "cell_type": "code",
   "execution_count": 22,
   "id": "787a4fa2",
   "metadata": {},
   "outputs": [
    {
     "data": {
      "text/plain": [
       "<_io.TextIOWrapper name='index.html' mode='w' encoding='utf-8'>"
      ]
     },
     "execution_count": 22,
     "metadata": {},
     "output_type": "execute_result"
    }
   ],
   "source": [
    "import os\n",
    "import subprocess\n",
    "import requests\n",
    "\n",
    "desktop_path = Path(os.path.expanduser(\"~\")) / \"Desktop\"\n",
    "os.chdir(desktop_path)\n",
    "\n",
    "os.makedirs(desktop_path, exist_ok=True)\n",
    "\n",
    "the_file = requests.get(\"https://itakea.github.io/e24_swa/py_intro_3.html\").text\n",
    "\n",
    "open(\"index.html\", \"w\", encoding=\"utf-8\")"
   ]
  },
  {
   "cell_type": "code",
   "execution_count": null,
   "id": "fe65ec63",
   "metadata": {},
   "outputs": [],
   "source": []
  }
 ],
 "metadata": {
  "kernelspec": {
   "display_name": ".venv",
   "language": "python",
   "name": "python3"
  },
  "language_info": {
   "codemirror_mode": {
    "name": "ipython",
    "version": 3
   },
   "file_extension": ".py",
   "mimetype": "text/x-python",
   "name": "python",
   "nbconvert_exporter": "python",
   "pygments_lexer": "ipython3",
   "version": "3.13.7"
  }
 },
 "nbformat": 4,
 "nbformat_minor": 5
}
