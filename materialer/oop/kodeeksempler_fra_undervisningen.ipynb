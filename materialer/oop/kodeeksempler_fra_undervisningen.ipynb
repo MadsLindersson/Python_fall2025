{
 "cells": [
  {
   "cell_type": "markdown",
   "id": "10c3d94a",
   "metadata": {},
   "source": [
    "# Kode fra undervisningen"
   ]
  },
  {
   "cell_type": "markdown",
   "id": "1a2693b4",
   "metadata": {},
   "source": [
    "## Declaration of a class"
   ]
  },
  {
   "cell_type": "code",
   "execution_count": null,
   "id": "86adcf4c",
   "metadata": {},
   "outputs": [],
   "source": []
  },
  {
   "cell_type": "markdown",
   "id": "9d07bb64",
   "metadata": {},
   "source": [
    "create an instance of the class"
   ]
  },
  {
   "cell_type": "code",
   "execution_count": null,
   "id": "919813bb",
   "metadata": {},
   "outputs": [],
   "source": []
  },
  {
   "cell_type": "markdown",
   "id": "7d909725",
   "metadata": {},
   "source": [
    "Adding instance variables"
   ]
  },
  {
   "cell_type": "code",
   "execution_count": null,
   "id": "9661483e",
   "metadata": {},
   "outputs": [],
   "source": []
  },
  {
   "cell_type": "markdown",
   "id": "d5381a6b",
   "metadata": {},
   "source": [
    "## Creating an initializer"
   ]
  },
  {
   "cell_type": "code",
   "execution_count": null,
   "id": "dbd4de18",
   "metadata": {},
   "outputs": [],
   "source": []
  },
  {
   "cell_type": "markdown",
   "id": "a4fa358e",
   "metadata": {},
   "source": [
    "## Instance and class variables"
   ]
  },
  {
   "cell_type": "code",
   "execution_count": null,
   "id": "bfba8821",
   "metadata": {},
   "outputs": [],
   "source": []
  },
  {
   "cell_type": "markdown",
   "id": "6ca1d613",
   "metadata": {},
   "source": [
    "## Public / Private in python"
   ]
  },
  {
   "cell_type": "code",
   "execution_count": null,
   "id": "e6e79cc8",
   "metadata": {},
   "outputs": [],
   "source": []
  },
  {
   "cell_type": "markdown",
   "id": "170e11d2",
   "metadata": {},
   "source": [
    "## Add / Change instance variables after declaration"
   ]
  },
  {
   "cell_type": "code",
   "execution_count": null,
   "id": "215e9b48",
   "metadata": {},
   "outputs": [],
   "source": []
  },
  {
   "cell_type": "markdown",
   "id": "273aef7a",
   "metadata": {},
   "source": [
    "## Add / Change class variables after declaration"
   ]
  },
  {
   "cell_type": "code",
   "execution_count": null,
   "id": "f48af88d",
   "metadata": {},
   "outputs": [],
   "source": []
  },
  {
   "cell_type": "markdown",
   "id": "0ec71c70",
   "metadata": {},
   "source": [
    "## Instance methods"
   ]
  },
  {
   "cell_type": "code",
   "execution_count": null,
   "id": "62541388",
   "metadata": {},
   "outputs": [],
   "source": []
  },
  {
   "cell_type": "markdown",
   "id": "330e5db7",
   "metadata": {},
   "source": [
    "## @Overloading"
   ]
  },
  {
   "cell_type": "code",
   "execution_count": null,
   "id": "561ac398",
   "metadata": {},
   "outputs": [],
   "source": []
  },
  {
   "cell_type": "markdown",
   "id": "ce641c54",
   "metadata": {},
   "source": [
    "## Inheritance"
   ]
  },
  {
   "cell_type": "markdown",
   "id": "7a92f76c",
   "metadata": {},
   "source": []
  }
 ],
 "metadata": {
  "kernelspec": {
   "display_name": ".venv",
   "language": "python",
   "name": "python3"
  },
  "language_info": {
   "name": "python",
   "version": "3.13.8"
  }
 },
 "nbformat": 4,
 "nbformat_minor": 5
}
